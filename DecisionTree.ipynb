{
 "cells": [
  {
   "cell_type": "code",
   "execution_count": 1,
   "metadata": {},
   "outputs": [
    {
     "name": "stdout",
     "output_type": "stream",
     "text": [
      "Accuracy on train set:1.000000\n",
      "Accuracy on test set:0.937063\n"
     ]
    }
   ],
   "source": [
    "#决策树（没有限制深度）\n",
    "from sklearn.datasets import load_breast_cancer\n",
    "from sklearn.tree import DecisionTreeClassifier\n",
    "from sklearn.model_selection import train_test_split\n",
    "cancer =load_breast_cancer()\n",
    "X_train,X_test,y_train,y_test=train_test_split(cancer.data,cancer.target,stratify=cancer.target,random_state=42)\n",
    "tree=DecisionTreeClassifier(random_state=0)\n",
    "tree.fit(X_train,y_train)\n",
    "print('Accuracy on train set:{:3f}'.format(tree.score(X_train,y_train)))\n",
    "print('Accuracy on test set:{:3f}'.format(tree.score(X_test,y_test)))"
   ]
  },
  {
   "cell_type": "markdown",
   "metadata": {},
   "source": [
    "因为没有限制树的深度，所以训练集的成绩为1，不过测试集的成绩比之前的线性模型要差一些"
   ]
  },
  {
   "cell_type": "code",
   "execution_count": 7,
   "metadata": {},
   "outputs": [
    {
     "name": "stdout",
     "output_type": "stream",
     "text": [
      "Accuracy on train set:0.988263\n",
      "Accuracy on test set:0.951049\n"
     ]
    }
   ],
   "source": [
    "#决策树限制深度\n",
    "tree=DecisionTreeClassifier(max_depth=4,random_state=0)\n",
    "tree.fit(X_train,y_train)\n",
    "print('Accuracy on train set:{:3f}'.format(tree.score(X_train,y_train)))\n",
    "print('Accuracy on test set:{:3f}'.format(tree.score(X_test,y_test)))"
   ]
  },
  {
   "cell_type": "markdown",
   "metadata": {},
   "source": [
    "限制深度也就是预剪枝之后果然好了很多"
   ]
  },
  {
   "cell_type": "markdown",
   "metadata": {},
   "source": [
    "决策树虽然容易可视化，也不熟数据缩放的影响，但是太容易过拟合，一般我们会使用一些继承操作的方法来改进它"
   ]
  },
  {
   "cell_type": "code",
   "execution_count": 8,
   "metadata": {},
   "outputs": [
    {
     "name": "stdout",
     "output_type": "stream",
     "text": [
      "Accuracy on train set:1.000000\n",
      "Accuracy on test set:0.958042\n"
     ]
    }
   ],
   "source": [
    "#随机森林\n",
    "from sklearn.ensemble import RandomForestClassifier\n",
    "from sklearn.datasets import make_moons\n",
    "X,y=make_moons(n_samples=100,noise=0.25,random_state=3)\n",
    "X_train,X_test,y_train,y_test=train_test_split(cancer.data,cancer.target,stratify=cancer.target,random_state=42)\n",
    "forest=RandomForestClassifier(n_estimators=5,random_state=2)\n",
    "forest.fit(X_train,y_train)\n",
    "print('Accuracy on train set:{:3f}'.format(forest.score(X_train,y_train)))\n",
    "print('Accuracy on test set:{:3f}'.format(forest.score(X_test,y_test)))"
   ]
  },
  {
   "cell_type": "code",
   "execution_count": 7,
   "metadata": {},
   "outputs": [
    {
     "name": "stdout",
     "output_type": "stream",
     "text": [
      "Accuracy on train set:0.997653\n",
      "Accuracy on test set:0.944056\n"
     ]
    }
   ],
   "source": [
    "from sklearn.ensemble import RandomForestClassifier\n",
    "cancer =load_breast_cancer()\n",
    "X_train,X_test,y_train,y_test=train_test_split(cancer.data,cancer.target,stratify=cancer.target,random_state=0)\n",
    "forest=RandomForestClassifier(n_estimators=100,random_state=0)\n",
    "forest.fit(X_train,y_train)\n",
    "print('Accuracy on train set:{:3f}'.format(forest.score(X_train,y_train)))\n",
    "print('Accuracy on test set:{:3f}'.format(forest.score(X_test,y_test)))"
   ]
  },
  {
   "cell_type": "markdown",
   "metadata": {},
   "source": [
    "随机森林是一个非常强大而且经常用到的机器学习算法，为了得到更好的模型，调整参数是非常有必要的"
   ]
  },
  {
   "cell_type": "code",
   "execution_count": 11,
   "metadata": {},
   "outputs": [
    {
     "name": "stdout",
     "output_type": "stream",
     "text": [
      "Fitting 3 folds for each of 27 candidates, totalling 81 fits\n"
     ]
    },
    {
     "name": "stderr",
     "output_type": "stream",
     "text": [
      "[Parallel(n_jobs=-1)]: Done  52 tasks      | elapsed:    3.8s\n",
      "[Parallel(n_jobs=-1)]: Done  66 out of  81 | elapsed:    4.5s remaining:    1.0s\n",
      "[Parallel(n_jobs=-1)]: Done  81 out of  81 | elapsed:    5.5s finished\n"
     ]
    },
    {
     "name": "stdout",
     "output_type": "stream",
     "text": [
      "Accuracy on train set:0.992958\n",
      "Accuracy on test set:0.958042\n"
     ]
    }
   ],
   "source": [
    "#使用网格搜索来寻找最佳模型\n",
    "params_rf = {'n_estimators':[100,350,500],\n",
    "    'max_features':['log2','auto','sqrt'],\n",
    "    'min_samples_leaf':[2,10,30]\n",
    "}\n",
    "# Import GridSearchCV\n",
    "from sklearn.model_selection import GridSearchCV\n",
    "rf=RandomForestClassifier(random_state=0)\n",
    "# Instantiate grid_rf\n",
    "grid_rf = GridSearchCV(estimator=rf,\n",
    "                       param_grid=params_rf,\n",
    "                       scoring='neg_mean_squared_error',\n",
    "                       cv=3,\n",
    "                       verbose=1,\n",
    "                       n_jobs=-1)\n",
    "grid_rf.fit(X_train,y_train)\n",
    "# Extract the best estimator\n",
    "best_model = grid_rf.best_estimator_\n",
    "print('Accuracy on train set:{:3f}'.format(best_model.score(X_train,y_train)))\n",
    "print('Accuracy on test set:{:3f}'.format(best_model.score(X_test,y_test)))"
   ]
  },
  {
   "cell_type": "markdown",
   "metadata": {},
   "source": [
    "通过上面的例子可以看到虽然测试集的成绩不如没有使用网格搜索好，但是测试集的数据确实提高了"
   ]
  },
  {
   "cell_type": "code",
   "execution_count": 13,
   "metadata": {},
   "outputs": [
    {
     "name": "stdout",
     "output_type": "stream",
     "text": [
      "Accuracy on train set:1.000000\n",
      "Accuracy on test set:0.958042\n"
     ]
    }
   ],
   "source": [
    "# 梯度提升机\n",
    "from sklearn.ensemble import GradientBoostingClassifier\n",
    "X_train,X_test,y_train,y_test=train_test_split(cancer.data,cancer.target,stratify=cancer.target,random_state=0)\n",
    "gbrt = GradientBoostingClassifier(random_state=0)\n",
    "gbrt.fit(X_train,y_train)\n",
    "print('Accuracy on train set:{:3f}'.format(gbrt.score(X_train,y_train)))\n",
    "print('Accuracy on test set:{:3f}'.format(gbrt.score(X_test,y_test)))"
   ]
  },
  {
   "cell_type": "markdown",
   "metadata": {},
   "source": [
    "梯度提升机对于参数非常敏感，这也是为什么他是机器学习竞赛中经常成为冠军的原因"
   ]
  },
  {
   "cell_type": "code",
   "execution_count": 16,
   "metadata": {},
   "outputs": [
    {
     "name": "stdout",
     "output_type": "stream",
     "text": [
      "Accuracy on train set:0.995\n",
      "Accuracy on test set:0.965\n"
     ]
    }
   ],
   "source": [
    "gbrt = GradientBoostingClassifier(max_depth=1,random_state=0)\n",
    "gbrt.fit(X_train,y_train)\n",
    "print('Accuracy on train set:{:.3f}'.format(gbrt.score(X_train,y_train)))\n",
    "print('Accuracy on test set:{:.3f}'.format(gbrt.score(X_test,y_test)))"
   ]
  },
  {
   "cell_type": "code",
   "execution_count": 28,
   "metadata": {},
   "outputs": [
    {
     "name": "stdout",
     "output_type": "stream",
     "text": [
      "Accuracy on train set:0.995\n",
      "Accuracy on test set:0.944\n"
     ]
    }
   ],
   "source": [
    "gbrt = GradientBoostingClassifier(random_state=0,learning_rate=0.01)\n",
    "gbrt.fit(X_train,y_train)\n",
    "print('Accuracy on train set:{:.3f}'.format(gbrt.score(X_train,y_train)))\n",
    "print('Accuracy on test set:{:.3f}'.format(gbrt.score(X_test,y_test)))"
   ]
  },
  {
   "cell_type": "code",
   "execution_count": 27,
   "metadata": {},
   "outputs": [
    {
     "name": "stdout",
     "output_type": "stream",
     "text": [
      "Fitting 3 folds for each of 300 candidates, totalling 900 fits\n"
     ]
    },
    {
     "name": "stderr",
     "output_type": "stream",
     "text": [
      "[Parallel(n_jobs=-1)]: Done 268 tasks      | elapsed:    5.7s\n",
      "[Parallel(n_jobs=-1)]: Done 832 tasks      | elapsed:   14.5s\n"
     ]
    },
    {
     "name": "stdout",
     "output_type": "stream",
     "text": [
      "Accuracy on train set:1.000000\n",
      "Accuracy on test set:0.958042\n"
     ]
    },
    {
     "name": "stderr",
     "output_type": "stream",
     "text": [
      "[Parallel(n_jobs=-1)]: Done 900 out of 900 | elapsed:   15.4s finished\n"
     ]
    }
   ],
   "source": [
    "params_rf = {'n_estimators':[20,50,100,350,500],\n",
    "    'max_features':['log2','auto','sqrt'],\n",
    "    'max_depth':[1,2,3,4,5],\n",
    "    'learning_rate':[0.001,0.01,0.05,0.1]\n",
    "}\n",
    "gbrt = GradientBoostingClassifier(random_state=0)\n",
    "grid_rf = GridSearchCV(estimator=gbrt,\n",
    "                       param_grid=params_rf,\n",
    "                       scoring='roc_auc',\n",
    "                       cv=3,\n",
    "                       verbose=1,\n",
    "                       n_jobs=-1)\n",
    "grid_rf.fit(X_train,y_train)\n",
    "best_model = grid_rf.best_estimator_\n",
    "print('Accuracy on train set:{:3f}'.format(best_model.score(X_train,y_train)))\n",
    "print('Accuracy on test set:{:3f}'.format(best_model.score(X_test,y_test)))"
   ]
  },
  {
   "cell_type": "code",
   "execution_count": null,
   "metadata": {},
   "outputs": [],
   "source": []
  }
 ],
 "metadata": {
  "kernelspec": {
   "display_name": "Python 3",
   "language": "python",
   "name": "python3"
  },
  "language_info": {
   "codemirror_mode": {
    "name": "ipython",
    "version": 3
   },
   "file_extension": ".py",
   "mimetype": "text/x-python",
   "name": "python",
   "nbconvert_exporter": "python",
   "pygments_lexer": "ipython3",
   "version": "3.6.4"
  }
 },
 "nbformat": 4,
 "nbformat_minor": 2
}
