{
 "cells": [
  {
   "cell_type": "code",
   "execution_count": 10,
   "metadata": {},
   "outputs": [
    {
     "name": "stdout",
     "output_type": "stream",
     "text": [
      "<class 'pandas.core.frame.DataFrame'>\n",
      "RangeIndex: 400 entries, 0 to 399\n",
      "Data columns (total 5 columns):\n",
      "User ID            400 non-null int64\n",
      "Gender             400 non-null object\n",
      "Age                400 non-null int64\n",
      "EstimatedSalary    400 non-null int64\n",
      "Purchased          400 non-null int64\n",
      "dtypes: int64(4), object(1)\n",
      "memory usage: 15.7+ KB\n"
     ]
    }
   ],
   "source": [
    "import pandas as pd \n",
    "data = pd.read_csv('Social_Network_Ads.csv')\n",
    "data.head()\n",
    "data.info()"
   ]
  },
  {
   "cell_type": "code",
   "execution_count": 2,
   "metadata": {},
   "outputs": [],
   "source": [
    "X=data.drop(['User ID','Purchased','Gender'],axis=1).values\n"
   ]
  },
  {
   "cell_type": "code",
   "execution_count": 3,
   "metadata": {},
   "outputs": [
    {
     "data": {
      "text/plain": [
       "array([0, 0, 0, 0, 0, 0, 0, 1, 0, 0, 0, 0, 0, 0, 0, 0, 1, 1, 1, 1, 1, 1,\n",
       "       1, 1, 1, 1, 1, 1, 0, 0, 0, 1, 0, 0, 0, 0, 0, 0, 0, 0, 0, 0, 0, 0,\n",
       "       0, 0, 0, 0, 1, 0, 0, 0, 0, 0, 0, 0, 0, 0, 0, 0, 0, 0, 0, 1, 0, 0,\n",
       "       0, 0, 0, 0, 0, 0, 0, 0, 0, 1, 0, 0, 0, 0, 0, 0, 0, 0, 0, 1, 0, 0,\n",
       "       0, 0, 0, 0, 0, 0, 0, 0, 0, 1, 0, 0, 0, 0, 0, 1, 0, 0, 0, 0, 0, 0,\n",
       "       0, 0, 0, 0, 0, 0, 0, 0, 0, 0, 0, 0, 0, 0, 0, 0, 0, 0, 0, 0, 0, 0,\n",
       "       0, 0, 0, 0, 0, 1, 0, 0, 0, 0, 0, 0, 0, 0, 1, 0, 0, 0, 0, 0, 0, 0,\n",
       "       0, 0, 0, 0, 0, 1, 1, 0, 0, 0, 0, 0, 0, 0, 1, 0, 0, 0, 0, 0, 0, 0,\n",
       "       0, 0, 0, 0, 0, 0, 1, 0, 0, 0, 0, 0, 0, 0, 0, 0, 0, 0, 0, 0, 0, 0,\n",
       "       0, 0, 0, 0, 1, 0, 1, 0, 1, 0, 1, 0, 1, 1, 0, 0, 0, 1, 0, 0, 0, 1,\n",
       "       0, 1, 1, 1, 0, 0, 1, 1, 0, 1, 1, 0, 1, 1, 0, 1, 0, 0, 0, 1, 1, 0,\n",
       "       1, 1, 0, 1, 0, 1, 0, 1, 0, 0, 1, 1, 0, 1, 0, 0, 1, 1, 0, 1, 1, 0,\n",
       "       1, 1, 0, 0, 1, 0, 0, 1, 1, 1, 1, 1, 0, 1, 1, 1, 1, 0, 1, 1, 0, 1,\n",
       "       0, 1, 0, 1, 1, 1, 1, 0, 0, 0, 1, 1, 0, 1, 1, 1, 1, 1, 0, 0, 0, 1,\n",
       "       1, 0, 0, 1, 0, 1, 0, 1, 1, 0, 1, 0, 1, 1, 0, 1, 1, 0, 0, 0, 1, 1,\n",
       "       0, 1, 0, 0, 1, 0, 1, 0, 0, 1, 1, 0, 0, 1, 1, 0, 1, 1, 0, 0, 1, 0,\n",
       "       1, 0, 1, 1, 1, 0, 1, 0, 1, 1, 1, 0, 1, 1, 1, 1, 0, 1, 1, 1, 0, 1,\n",
       "       0, 1, 0, 0, 1, 1, 0, 1, 1, 1, 1, 1, 1, 0, 1, 1, 1, 1, 1, 1, 0, 1,\n",
       "       1, 1, 0, 1])"
      ]
     },
     "execution_count": 3,
     "metadata": {},
     "output_type": "execute_result"
    }
   ],
   "source": [
    "y=data['Purchased'].values\n",
    "y"
   ]
  },
  {
   "cell_type": "code",
   "execution_count": 4,
   "metadata": {},
   "outputs": [
    {
     "name": "stderr",
     "output_type": "stream",
     "text": [
      "/Users/kailiu/anaconda3/lib/python3.6/site-packages/sklearn/cross_validation.py:41: DeprecationWarning: This module was deprecated in version 0.18 in favor of the model_selection module into which all the refactored classes and functions are moved. Also note that the interface of the new CV iterators are different from that of this module. This module will be removed in 0.20.\n",
      "  \"This module will be removed in 0.20.\", DeprecationWarning)\n"
     ]
    }
   ],
   "source": [
    "from sklearn.svm import SVC\n",
    "from sklearn.cross_validation import train_test_split\n",
    "X_train, X_test, y_train, y_test = train_test_split(X, y, test_size = 0.8, random_state = 0)\n",
    "svc=SVC(kernel='linear',random_state=0)\n",
    "svc.fit(X_train,y_train)\n",
    "y_pred=svc.predict(X_test)\n"
   ]
  },
  {
   "cell_type": "code",
   "execution_count": 5,
   "metadata": {},
   "outputs": [
    {
     "name": "stdout",
     "output_type": "stream",
     "text": [
      "[[191  10]\n",
      " [ 66  53]]\n",
      "0.5824175824175825\n"
     ]
    }
   ],
   "source": [
    "from sklearn.metrics import confusion_matrix\n",
    "from sklearn.metrics import f1_score\n",
    "cm = confusion_matrix(y_test, y_pred)\n",
    "f1=f1_score(y_test, y_pred)\n",
    "print(cm)\n",
    "print(f1)"
   ]
  },
  {
   "cell_type": "code",
   "execution_count": 6,
   "metadata": {},
   "outputs": [
    {
     "name": "stdout",
     "output_type": "stream",
     "text": [
      "[[188  13]\n",
      " [ 57  62]]\n",
      "0.6391752577319588\n"
     ]
    },
    {
     "name": "stderr",
     "output_type": "stream",
     "text": [
      "/Users/kailiu/anaconda3/lib/python3.6/site-packages/sklearn/utils/validation.py:475: DataConversionWarning: Data with input dtype int64 was converted to float64 by StandardScaler.\n",
      "  warnings.warn(msg, DataConversionWarning)\n"
     ]
    }
   ],
   "source": [
    "from sklearn.preprocessing import StandardScaler\n",
    "sc = StandardScaler()\n",
    "X_train = sc.fit_transform(X_train)\n",
    "X_test = sc.fit_transform(X_test)\n",
    "svc2=SVC(kernel='linear',random_state=0)\n",
    "svc2.fit(X_train,y_train)\n",
    "y_pred=svc2.predict(X_test)\n",
    "cm = confusion_matrix(y_test, y_pred)\n",
    "f1=f1_score(y_test, y_pred)\n",
    "print(cm)\n",
    "print(f1)"
   ]
  },
  {
   "cell_type": "code",
   "execution_count": 8,
   "metadata": {},
   "outputs": [],
   "source": [
    "from sklearn.linear_model import LogisticRegression"
   ]
  },
  {
   "cell_type": "code",
   "execution_count": 9,
   "metadata": {},
   "outputs": [
    {
     "name": "stdout",
     "output_type": "stream",
     "text": [
      "[[187  14]\n",
      " [ 51  68]]\n",
      "0.6766169154228855\n"
     ]
    }
   ],
   "source": [
    "logre=LogisticRegression()\n",
    "logre.fit(X_train,y_train)\n",
    "y_pred=logre.predict(X_test)\n",
    "cm = confusion_matrix(y_test, y_pred)\n",
    "f1=f1_score(y_test, y_pred)\n",
    "print(cm)\n",
    "print(f1)"
   ]
  },
  {
   "cell_type": "code",
   "execution_count": 11,
   "metadata": {},
   "outputs": [
    {
     "name": "stdout",
     "output_type": "stream",
     "text": [
      "[[184  17]\n",
      " [ 23  96]]\n",
      "0.8275862068965517\n"
     ]
    }
   ],
   "source": [
    "from sklearn.ensemble import RandomForestClassifier\n",
    "rf=RandomForestClassifier(random_state=0)\n",
    "rf.fit(X_train,y_train)\n",
    "y_pred=rf.predict(X_test)\n",
    "cm = confusion_matrix(y_test, y_pred)\n",
    "f1=f1_score(y_test, y_pred)\n",
    "print(cm)\n",
    "print(f1)"
   ]
  },
  {
   "cell_type": "code",
   "execution_count": 12,
   "metadata": {},
   "outputs": [
    {
     "name": "stdout",
     "output_type": "stream",
     "text": [
      "[[183  18]\n",
      " [ 25  94]]\n",
      "0.8138528138528138\n"
     ]
    }
   ],
   "source": [
    "from sklearn.ensemble import GradientBoostingClassifier\n",
    "gbc=GradientBoostingClassifier(random_state=0)\n",
    "gbc.fit(X_train,y_train)\n",
    "y_pred=gbc.predict(X_test)\n",
    "cm = confusion_matrix(y_test, y_pred)\n",
    "f1=f1_score(y_test, y_pred)\n",
    "print(cm)\n",
    "print(f1)"
   ]
  },
  {
   "cell_type": "code",
   "execution_count": 13,
   "metadata": {},
   "outputs": [
    {
     "data": {
      "text/plain": [
       "array([[-0.41832001, -1.12664039],\n",
       "       [ 0.34879978,  0.18238564],\n",
       "       [-0.13065009, -1.06278546],\n",
       "       [ 1.69125941,  1.87454123],\n",
       "       [ 1.0200296 ,  2.06610602],\n",
       "       [ 0.34879978,  0.15045817],\n",
       "       [-0.70598993, -0.136889  ],\n",
       "       [-0.03476012,  0.18238564],\n",
       "       [ 0.34879978, -0.10496154],\n",
       "       [ 1.97892933, -0.61580096],\n",
       "       [-0.70598993,  1.58719406],\n",
       "       [-1.66488967, -0.55194603],\n",
       "       [-0.03476012,  0.24624057],\n",
       "       [ 0.34879978, -0.23267139],\n",
       "       [ 1.11591957,  0.72515253],\n",
       "       [-0.89776988,  0.40587789],\n",
       "       [ 1.49947946,  0.50166028],\n",
       "       [ 0.25290981, -0.29652632],\n",
       "       [ 2.17070928, -1.03085799],\n",
       "       [-0.22654006,  1.33177434],\n",
       "       [-1.5689997 ,  0.18238564],\n",
       "       [ 0.06112986,  0.15045817],\n",
       "       [ 0.15701983,  1.26791941],\n",
       "       [-0.03476012, -0.29652632],\n",
       "       [-1.08954983,  0.18238564],\n",
       "       [-0.22654006, -1.3820601 ],\n",
       "       [ 1.59536944,  1.33177434],\n",
       "       [-0.70598993, -1.57362488],\n",
       "       [ 0.15701983,  2.16188841],\n",
       "       [-0.80187991, -0.74351082],\n",
       "       [-0.41832001, -0.74351082],\n",
       "       [-0.22654006, -0.90314814],\n",
       "       [ 0.34879978, -0.67965589],\n",
       "       [ 0.34879978,  0.18238564],\n",
       "       [ 0.15701983,  2.16188841],\n",
       "       [-0.99365985,  2.2576708 ],\n",
       "       [-1.5689997 , -1.60555235],\n",
       "       [-1.08954983, -1.09471292],\n",
       "       [-0.61009996, -0.00917915],\n",
       "       [ 0.15701983,  0.2143131 ],\n",
       "       [ 0.34879978,  0.40587789],\n",
       "       [ 0.92413962, -0.52001857],\n",
       "       [ 0.34879978, -1.15856785],\n",
       "       [-0.03476012,  0.85286238],\n",
       "       [ 2.17070928, -0.64772843],\n",
       "       [-1.1854398 , -1.41398756],\n",
       "       [-0.89776988, -0.9350756 ],\n",
       "       [ 0.06112986, -0.36038125],\n",
       "       [-0.13065009, -0.39230871],\n",
       "       [-1.66488967, -0.96700307],\n",
       "       [ 1.78714939,  1.20406449],\n",
       "       [ 0.25290981, -0.29652632],\n",
       "       [ 0.44468975,  1.33177434],\n",
       "       [-1.66488967, -1.3820601 ],\n",
       "       [ 0.25290981, -0.04110661],\n",
       "       [ 0.92413962, -1.47784249],\n",
       "       [-1.85666962,  0.62937013],\n",
       "       [-0.22654006,  0.40587789],\n",
       "       [ 1.88303936, -1.06278546],\n",
       "       [-0.32243004,  0.18238564],\n",
       "       [ 1.11591957, -0.87122067],\n",
       "       [-0.99365985, -1.12664039],\n",
       "       [-1.76077964,  0.11853071],\n",
       "       [ 0.15701983,  0.40587789],\n",
       "       [-1.08954983,  0.46973281],\n",
       "       [-1.1854398 ,  0.43780535],\n",
       "       [-0.89776988,  0.59744267],\n",
       "       [ 1.69125941, -0.87122067],\n",
       "       [ 1.21180954,  0.69322506],\n",
       "       [ 1.11591957,  0.69322506],\n",
       "       [ 1.40358949,  2.67272783],\n",
       "       [-0.22654006, -0.04110661],\n",
       "       [ 0.44468975, -0.39230871],\n",
       "       [-0.32243004, -0.74351082],\n",
       "       [-0.03476012, -0.45616364],\n",
       "       [ 1.0200296 , -1.15856785],\n",
       "       [-0.80187991, -0.74351082],\n",
       "       [-0.13065009, -0.45616364],\n",
       "       [-0.99365985, -0.39230871],\n",
       "       [-1.08954983,  1.65104898]])"
      ]
     },
     "execution_count": 13,
     "metadata": {},
     "output_type": "execute_result"
    }
   ],
   "source": []
  },
  {
   "cell_type": "code",
   "execution_count": null,
   "metadata": {},
   "outputs": [],
   "source": []
  }
 ],
 "metadata": {
  "kernelspec": {
   "display_name": "Python 3",
   "language": "python",
   "name": "python3"
  },
  "language_info": {
   "codemirror_mode": {
    "name": "ipython",
    "version": 3
   },
   "file_extension": ".py",
   "mimetype": "text/x-python",
   "name": "python",
   "nbconvert_exporter": "python",
   "pygments_lexer": "ipython3",
   "version": "3.6.4"
  }
 },
 "nbformat": 4,
 "nbformat_minor": 2
}
