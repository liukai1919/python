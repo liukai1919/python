{
 "cells": [
  {
   "cell_type": "code",
   "execution_count": 1,
   "metadata": {},
   "outputs": [
    {
     "data": {
      "text/plain": [
       "<matplotlib.figure.Figure at 0x1132fae10>"
      ]
     },
     "metadata": {},
     "output_type": "display_data"
    }
   ],
   "source": [
    "#KNN分类算法\n",
    "from sklearn.datasets import load_breast_cancer\n",
    "from sklearn.model_selection import train_test_split\n",
    "from sklearn.neighbors import KNeighborsClassifier\n",
    "import matplotlib.pyplot as plt\n",
    "import numpy as np\n",
    "cancer = load_breast_cancer()\n",
    "X_train,X_test,y_train,y_test=train_test_split(cancer.data,cancer.target,stratify=cancer.target,random_state=66)\n",
    "train_acc=[]\n",
    "test_acc=[]\n",
    "neibors_settings=range(1,11)\n",
    "for n in neibors_settings:\n",
    "    clf=KNeighborsClassifier(n_neighbors=n)\n",
    "    clf.fit(X_train,y_train)\n",
    "    train_acc.append(clf.score(X_train,y_train))\n",
    "    test_acc.append(clf.score(X_test,y_test))\n",
    "plt.plot(neibors_settings,train_acc,label='training accuracy')\n",
    "plt.plot(neibors_settings,test_acc,label='test accuracy')\n",
    "plt.ylabel('Accuracy')\n",
    "plt.xlabel('neibors')\n",
    "plt.legend()\n",
    "plt.show()"
   ]
  },
  {
   "cell_type": "markdown",
   "metadata": {},
   "source": [
    "kneighbors 拥有两个重要的参数，一个是邻居个数另一个是数据点之间的距离，一般我们通过调节邻居个数来调优模型。\n",
    "如果数据的特征集合或者样本集很大，那么KNN算法的性能很一般，在日常使用中很少用到。"
   ]
  },
  {
   "cell_type": "code",
   "execution_count": 9,
   "metadata": {},
   "outputs": [
    {
     "name": "stdout",
     "output_type": "stream",
     "text": [
      "一元回归\n",
      "[0.39390555]\n",
      "-0.031804343026759746\n",
      "0.6700890315075756\n",
      "0.65933685968637\n",
      "多元回归\n",
      "13.4006082595338\n",
      "-34.73023401888592\n",
      "0.9447733458074403\n",
      "0.791206227291862\n"
     ]
    }
   ],
   "source": [
    "#linear model\n",
    "import IPython\n",
    "import sys\n",
    "import sklearn\n",
    "import mglearn\n",
    "from sklearn.linear_model import LinearRegression\n",
    "# 一元回归\n",
    "print('一元回归')\n",
    "X,y=mglearn.datasets.make_wave(n_samples=60)\n",
    "X_train,X_test,y_train,y_test=train_test_split(X,y,random_state=42)\n",
    "model=LinearRegression()\n",
    "model.fit(X_train,y_train)\n",
    "#获得参数\n",
    "print(model.coef_)\n",
    "print(model.intercept_)\n",
    "#性能\n",
    "print(model.score(X_train,y_train))\n",
    "print(model.score(X_test,y_test))\n",
    "#成绩不是很理想，这是因为可能存在欠拟合的情况，在特征值比较多的情况下线性回归会变得很强大，过拟合的风险也会上升\n",
    "#多元回归\n",
    "print('多元回归')\n",
    "X,y=mglearn.datasets.load_extended_boston()\n",
    "X_train,X_test,y_train,y_test=train_test_split(X,y,random_state=42)\n",
    "model=LinearRegression()\n",
    "model.fit(X_train,y_train)\n",
    "#获得参数\n",
    "print(np.mean(model.coef_))\n",
    "print(model.intercept_)\n",
    "#性能\n",
    "print(model.score(X_train,y_train))\n",
    "print(model.score(X_test,y_test))"
   ]
  },
  {
   "cell_type": "code",
   "execution_count": 6,
   "metadata": {},
   "outputs": [
    {
     "name": "stdout",
     "output_type": "stream",
     "text": [
      "0.8703751958973932\n",
      "0.8140998031853132\n"
     ]
    }
   ],
   "source": [
    "#ridge regression\n",
    "from sklearn.linear_model import Ridge\n",
    "ridge=Ridge()\n",
    "ridge.fit(X_train,y_train)\n",
    "print(ridge.score(X_train,y_train))\n",
    "print(ridge.score(X_test,y_test))\n",
    "#得到了比一般线性回归更好的成绩，这是因为线性回归存在过拟合的现象，而Ridge的约束性更强\n",
    "#所以不容易过拟合，复杂度越小，训练集的性能越差，不过泛化更好"
   ]
  },
  {
   "cell_type": "code",
   "execution_count": 8,
   "metadata": {},
   "outputs": [
    {
     "name": "stdout",
     "output_type": "stream",
     "text": [
      "alpha=10\n",
      "-0.2705625555304186\n",
      "0.7670498825472766\n",
      "0.7277573511985336\n",
      "alpha=0.1\n",
      "-0.14591176464926933\n",
      "0.9177359031657044\n",
      "0.8240252404192813\n"
     ]
    }
   ],
   "source": [
    "#设置Ridge的参数alpha来获取更好的性能\n",
    "ridge10=Ridge(alpha=10).fit(X_train,y_train)\n",
    "print('alpha=10')\n",
    "print(np.mean(ridge10.coef_))\n",
    "print(ridge10.score(X_train,y_train))\n",
    "print(ridge10.score(X_test,y_test))\n",
    "ridge01=Ridge(alpha=0.1).fit(X_train,y_train)\n",
    "print('alpha=0.1')\n",
    "print(np.mean(ridge01.coef_))\n",
    "print(ridge01.score(X_train,y_train))\n",
    "print(ridge01.score(X_test,y_test))"
   ]
  },
  {
   "cell_type": "code",
   "execution_count": 12,
   "metadata": {},
   "outputs": [
    {
     "data": {
      "image/png": "[encoded data removed]",
      "text/plain": [
       "<matplotlib.figure.Figure at 0x1c1f1a0f60>"
      ]
     },
     "metadata": {},
     "output_type": "display_data"
    }
   ],
   "source": [
    "mglearn.plots.plot_ridge_n_samples()"
   ]
  },
  {
   "cell_type": "markdown",
   "metadata": {},
   "source": [
    "由上图可知，在数据集较小的情况下，线性回归学不到任何东西\n",
    "应为Ridge是正则化的，所以在数据非常大的情况下，Ridge和线性回归的性能一样"
   ]
  },
  {
   "cell_type": "code",
   "execution_count": 18,
   "metadata": {},
   "outputs": [
    {
     "name": "stdout",
     "output_type": "stream",
     "text": [
      "0.5637023450563947\n",
      "0.5035223848172087\n",
      "2\n"
     ]
    }
   ],
   "source": [
    "#lasso\n",
    "from sklearn.linear_model import Lasso\n",
    "lasso=Lasso().fit(X_train,y_train)\n",
    "print(lasso.score(X_train,y_train))\n",
    "print(lasso.score(X_test,y_test))\n",
    "print(np.sum(lasso.coef_!=0))"
   ]
  },
  {
   "cell_type": "markdown",
   "metadata": {},
   "source": [
    "上一个lasso模型的成绩很不理想，让我们来减少alpha系数来获得更多的系数"
   ]
  },
  {
   "cell_type": "code",
   "execution_count": 24,
   "metadata": {},
   "outputs": [
    {
     "name": "stdout",
     "output_type": "stream",
     "text": [
      "0.7492424846995176\n",
      "0.6923388603693977\n",
      "13\n"
     ]
    }
   ],
   "source": [
    "lass001=Lasso(alpha=0.001,max_iter=100000).fit(X_train,y_train)#max_iter为迭代最大次数，不修改的话会报错\n",
    "print(lass001.score(X_train,y_train))\n",
    "print(lass001.score(X_test,y_test))\n",
    "print(np.sum(lass001.coef_!=0))"
   ]
  },
  {
   "cell_type": "markdown",
   "metadata": {},
   "source": [
    "可以看到模型更复杂了，在训练集和测试机上的表现也好了很多\n",
    "但是，如果系数太小lasso和普通的线性回归区别不会很大"
   ]
  },
  {
   "cell_type": "code",
   "execution_count": 23,
   "metadata": {},
   "outputs": [
    {
     "name": "stdout",
     "output_type": "stream",
     "text": [
      "线性归回\n",
      "0.7897674842505374\n",
      "0.6737519498012768\n"
     ]
    }
   ],
   "source": [
    "model=LinearRegression()\n",
    "model.fit(X_train,y_train)\n",
    "print('线性归回')\n",
    "print(model.score(X_train,y_train))\n",
    "print(model.score(X_test,y_test))"
   ]
  },
  {
   "cell_type": "markdown",
   "metadata": {},
   "source": [
    "在实践当中，如果特征集非常多，而我们认为只有几个特征集是重要的，那么我们就选择lasso，同样的ElasticNet也是一个好的选择。\n",
    "他将Ridge和lasso的惩罚项结合在一起，不过需要调节两个参数"
   ]
  },
  {
   "cell_type": "code",
   "execution_count": 28,
   "metadata": {},
   "outputs": [
    {
     "name": "stdout",
     "output_type": "stream",
     "text": [
      "0.6320746340124843\n",
      "0.5871942171666136\n"
     ]
    }
   ],
   "source": [
    "from sklearn.linear_model import ElasticNet\n",
    "elasticnet=ElasticNet().fit(X_train,y_train)\n",
    "print(elasticnet.score(X_train,y_train))\n",
    "print(elasticnet.score(X_test,y_test))"
   ]
  },
  {
   "cell_type": "code",
   "execution_count": 38,
   "metadata": {},
   "outputs": [
    {
     "name": "stdout",
     "output_type": "stream",
     "text": [
      "0.7533210622132726\n",
      "0.6976336940479232\n"
     ]
    }
   ],
   "source": [
    "elasticnet001=ElasticNet(alpha=0.001,max_iter=100000).fit(X_train,y_train)\n",
    "print(elasticnet001.score(X_train,y_train))\n",
    "print(elasticnet001.score(X_test,y_test))"
   ]
  },
  {
   "cell_type": "code",
   "execution_count": 37,
   "metadata": {},
   "outputs": [
    {
     "name": "stdout",
     "output_type": "stream",
     "text": [
      "0.6767357003809814\n",
      "0.637203209310546\n"
     ]
    }
   ],
   "source": [
    "elasticnet0001=ElasticNet(l1_ratio=0.1,max_iter=100000).fit(X_train,y_train)\n",
    "print(elasticnet0001.score(X_train,y_train))\n",
    "print(elasticnet0001.score(X_test,y_test))"
   ]
  },
  {
   "cell_type": "code",
   "execution_count": null,
   "metadata": {},
   "outputs": [],
   "source": []
  }
 ],
 "metadata": {
  "kernelspec": {
   "display_name": "Python 3",
   "language": "python",
   "name": "python3"
  },
  "language_info": {
   "codemirror_mode": {
    "name": "ipython",
    "version": 3
   },
   "file_extension": ".py",
   "mimetype": "text/x-python",
   "name": "python",
   "nbconvert_exporter": "python",
   "pygments_lexer": "ipython3",
   "version": "3.6.4"
  }
 },
 "nbformat": 4,
 "nbformat_minor": 2
}
